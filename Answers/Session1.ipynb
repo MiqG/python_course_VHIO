{
 "cells": [
  {
   "cell_type": "markdown",
   "metadata": {},
   "source": [
    "# Introduction to Python - Session 1\n",
    "1. Programming and Python\n",
    "    - What is Python?\n",
    "    - What are Jupyter Notebooks?\n",
    "    - Paths and directories\n",
    "    - Creating a python script/notebook\n",
    "2. Basics of Python: objects, syntax, functions\n",
    "3. Data types\n",
    "    - Numbers\n",
    "    - Lists\n",
    "    - Strings\n",
    "    - Dictionaries\n",
    "4. Flow control\n",
    "    - if...else statements\n",
    "    - for and while loops\n",
    "5. List comprehension\n",
    "6. Reading and writing files\n",
    "7. Functions\n",
    "\n",
    "SLIDES [HERE](https://docs.google.com/presentation/d/1mcmEPyvGNvnPy4hjDdc2VDOsCD-J6B54tn8FQ-bb-Fo/export/pdf)\n",
    "\n",
    "Here is a very good online free tutorial. Practice makes the master!\n",
    "http://datacamp.pxf.io/gbWXJA"
   ]
  },
  {
   "cell_type": "markdown",
   "metadata": {},
   "source": [
    "**Getting help**\n",
    "The built-in function help() will show you interactive documentation about most Python objects."
   ]
  },
  {
   "cell_type": "code",
   "execution_count": 66,
   "metadata": {},
   "outputs": [
    {
     "name": "stdout",
     "output_type": "stream",
     "text": [
      "Help on built-in function print in module builtins:\n",
      "\n",
      "print(...)\n",
      "    print(value, ..., sep=' ', end='\\n', file=sys.stdout, flush=False)\n",
      "    \n",
      "    Prints the values to a stream, or to sys.stdout by default.\n",
      "    Optional keyword arguments:\n",
      "    file:  a file-like object (stream); defaults to the current sys.stdout.\n",
      "    sep:   string inserted between values, default a space.\n",
      "    end:   string appended after the last value, default a newline.\n",
      "    flush: whether to forcibly flush the stream.\n",
      "\n"
     ]
    }
   ],
   "source": [
    "help(print)"
   ]
  },
  {
   "cell_type": "markdown",
   "metadata": {},
   "source": [
    "## EXERCISE 1 - Getting started\n",
    "Exercises are explained in this notebook. Use the cells below each question to write and run your own answers. Remember, you can add text cells as you wish and use # for commenting the code."
   ]
  },
  {
   "cell_type": "code",
   "execution_count": 1,
   "metadata": {},
   "outputs": [
    {
     "name": "stdout",
     "output_type": "stream",
     "text": [
      "Hello world\n"
     ]
    }
   ],
   "source": [
    "# This is a comment\n",
    "print(\"Hello world\")"
   ]
  },
  {
   "cell_type": "markdown",
   "metadata": {},
   "source": [
    "**1. Using Python, calculate the percentage of males and females currently present in the training.**"
   ]
  },
  {
   "cell_type": "code",
   "execution_count": 6,
   "metadata": {},
   "outputs": [
    {
     "name": "stdout",
     "output_type": "stream",
     "text": [
      "31.57894736842105\n",
      "68.42105263157895\n"
     ]
    }
   ],
   "source": [
    "# 6 males out of 19 students:\n",
    "print((6/19) * 100)\n",
    "\n",
    "# 13 females out of 19 students:\n",
    "print((13/19) * 100)"
   ]
  },
  {
   "cell_type": "markdown",
   "metadata": {},
   "source": [
    "**2. Create a new object `myobject` with value 60. Print `myobject` in the console.**"
   ]
  },
  {
   "cell_type": "code",
   "execution_count": 7,
   "metadata": {},
   "outputs": [
    {
     "name": "stdout",
     "output_type": "stream",
     "text": [
      "60\n"
     ]
    }
   ],
   "source": [
    "myobject = 60\n",
    "print(myobject)"
   ]
  },
  {
   "cell_type": "markdown",
   "metadata": {},
   "source": [
    "**3. Reassign `myobject` with value 87.**"
   ]
  },
  {
   "cell_type": "code",
   "execution_count": 14,
   "metadata": {},
   "outputs": [
    {
     "name": "stdout",
     "output_type": "stream",
     "text": [
      "87\n"
     ]
    }
   ],
   "source": [
    "myobject = 87\n",
    "print(myobject)"
   ]
  },
  {
   "cell_type": "markdown",
   "metadata": {},
   "source": [
    "**4. Subtract 1 to `myobject` and reassign.**"
   ]
  },
  {
   "cell_type": "code",
   "execution_count": 15,
   "metadata": {},
   "outputs": [],
   "source": [
    "# Option 1\n",
    "myobject = myobject - 1\n",
    "# Option 2 (use += and -= to reassign an object directly after adding/subtracting)\n",
    "myobject -= 1"
   ]
  },
  {
   "cell_type": "markdown",
   "metadata": {},
   "source": [
    "## EXERCISE 2 - Data types: strings"
   ]
  },
  {
   "cell_type": "markdown",
   "metadata": {},
   "source": [
    "**1. Create the string `mystring` with value \"Hello world!\", and print it.**"
   ]
  },
  {
   "cell_type": "code",
   "execution_count": 8,
   "metadata": {},
   "outputs": [
    {
     "name": "stdout",
     "output_type": "stream",
     "text": [
      "Hello world!\n"
     ]
    }
   ],
   "source": [
    "mystring = \"Hello world!\"\n",
    "print(mystring)"
   ]
  },
  {
   "cell_type": "markdown",
   "metadata": {},
   "source": [
    "**2. Print \"This is my string: Hello world!\".**"
   ]
  },
  {
   "cell_type": "code",
   "execution_count": 76,
   "metadata": {},
   "outputs": [
    {
     "name": "stdout",
     "output_type": "stream",
     "text": [
      "This is my string: Hello world!\n"
     ]
    }
   ],
   "source": [
    "print(\"This is my string: %s\" % (mystring))"
   ]
  },
  {
   "cell_type": "markdown",
   "metadata": {},
   "source": [
    "**3. How long is the string?**"
   ]
  },
  {
   "cell_type": "code",
   "execution_count": 78,
   "metadata": {},
   "outputs": [
    {
     "data": {
      "text/plain": [
       "12"
      ]
     },
     "execution_count": 78,
     "metadata": {},
     "output_type": "execute_result"
    }
   ],
   "source": [
    "len(mystring)"
   ]
  },
  {
   "cell_type": "markdown",
   "metadata": {},
   "source": [
    "**4. Get only the word \"world\" from `mystring` using numeric indexes.**"
   ]
  },
  {
   "cell_type": "code",
   "execution_count": 80,
   "metadata": {},
   "outputs": [
    {
     "data": {
      "text/plain": [
       "'world'"
      ]
     },
     "execution_count": 80,
     "metadata": {},
     "output_type": "execute_result"
    }
   ],
   "source": [
    "mystring[6:11]"
   ]
  },
  {
   "cell_type": "markdown",
   "metadata": {},
   "source": [
    "**5. Split `mystring` word by word. Use the method `split`. Then `join` the words with slashes.**"
   ]
  },
  {
   "cell_type": "code",
   "execution_count": 11,
   "metadata": {},
   "outputs": [
    {
     "data": {
      "text/plain": [
       "'Hello-world!'"
      ]
     },
     "execution_count": 11,
     "metadata": {},
     "output_type": "execute_result"
    }
   ],
   "source": [
    "splitted = mystring.split(\" \")\n",
    "\"-\".join(splitted)"
   ]
  },
  {
   "cell_type": "markdown",
   "metadata": {},
   "source": [
    "**6. Print `mystring` in upper case. Use the method `upper`.**"
   ]
  },
  {
   "cell_type": "code",
   "execution_count": 95,
   "metadata": {},
   "outputs": [
    {
     "data": {
      "text/plain": [
       "'HELLO WORLD!'"
      ]
     },
     "execution_count": 95,
     "metadata": {},
     "output_type": "execute_result"
    }
   ],
   "source": [
    "mystring.upper()"
   ]
  },
  {
   "cell_type": "markdown",
   "metadata": {},
   "source": [
    "**7. Write a Python program that finds the position of the first cytosine (C) in the sequence \"ATGTCACCGTTT\".**"
   ]
  },
  {
   "cell_type": "code",
   "execution_count": 7,
   "metadata": {},
   "outputs": [
    {
     "name": "stdout",
     "output_type": "stream",
     "text": [
      "The first cytosine is in position 5\n"
     ]
    }
   ],
   "source": [
    "sequence = \"ATGTCACCGTTT\"\n",
    "firstC = sequence.find(\"C\")\n",
    "print(\"The first cytosine is in position %i\" % (firstC + 1)) # Remember that Python is 0-based, so we need to add 1"
   ]
  },
  {
   "cell_type": "markdown",
   "metadata": {},
   "source": [
    "## EXERCISE 3 - Data types: numbers"
   ]
  },
  {
   "cell_type": "markdown",
   "metadata": {},
   "source": [
    "**1. Create three variables `a`, `b`, and `c` with values 2, 5 and 3 respectively.**"
   ]
  },
  {
   "cell_type": "code",
   "execution_count": 83,
   "metadata": {},
   "outputs": [],
   "source": [
    "# Option 1\n",
    "a,b,c = 2,5,3\n",
    "# Option 2\n",
    "a = 2\n",
    "b = 5\n",
    "c = 3"
   ]
  },
  {
   "cell_type": "markdown",
   "metadata": {},
   "source": [
    "**2. Is `a` greater or equal than `c`. And `b`?**"
   ]
  },
  {
   "cell_type": "code",
   "execution_count": 88,
   "metadata": {},
   "outputs": [
    {
     "name": "stdout",
     "output_type": "stream",
     "text": [
      "False\n",
      "True\n"
     ]
    }
   ],
   "source": [
    "print(a>=c)\n",
    "print(b>=c)"
   ]
  },
  {
   "cell_type": "markdown",
   "metadata": {},
   "source": [
    "**3. Try `(a+c)*5`. Assign it to `d`.**"
   ]
  },
  {
   "cell_type": "code",
   "execution_count": 86,
   "metadata": {},
   "outputs": [
    {
     "data": {
      "text/plain": [
       "25"
      ]
     },
     "execution_count": 86,
     "metadata": {},
     "output_type": "execute_result"
    }
   ],
   "source": [
    "d = (a+c)*5\n",
    "d"
   ]
  },
  {
   "cell_type": "markdown",
   "metadata": {},
   "source": [
    "**4. Try b\\*\\*a. Is it the same as `d`? Use either `==` or `is` for comparison.**"
   ]
  },
  {
   "cell_type": "code",
   "execution_count": 90,
   "metadata": {},
   "outputs": [
    {
     "data": {
      "text/plain": [
       "True"
      ]
     },
     "execution_count": 90,
     "metadata": {},
     "output_type": "execute_result"
    }
   ],
   "source": [
    "(b**a) is d"
   ]
  },
  {
   "cell_type": "markdown",
   "metadata": {},
   "source": [
    "**5. What is `d` divided by `a`? If not exact, what is the remainder?**"
   ]
  },
  {
   "cell_type": "code",
   "execution_count": 89,
   "metadata": {},
   "outputs": [
    {
     "name": "stdout",
     "output_type": "stream",
     "text": [
      "12.5\n",
      "1\n"
     ]
    }
   ],
   "source": [
    "print(d/a)\n",
    "print(d%a)"
   ]
  },
  {
   "cell_type": "markdown",
   "metadata": {},
   "source": [
    "## EXERCISE 4 - Data types: lists"
   ]
  },
  {
   "cell_type": "markdown",
   "metadata": {},
   "source": [
    "**1. Create a list `y` which contains the numbers from 2 to 11, both included. \n",
    "Print `y` in the console.**"
   ]
  },
  {
   "cell_type": "code",
   "execution_count": 7,
   "metadata": {},
   "outputs": [
    {
     "name": "stdout",
     "output_type": "stream",
     "text": [
      "[2, 3, 4, 5, 6, 7, 8, 9, 10, 11]\n",
      "[2, 3, 4, 5, 6, 7, 8, 9, 10, 11]\n"
     ]
    }
   ],
   "source": [
    "# Option 1\n",
    "y = [2,3,4,5,6,7,8,9,10,11]\n",
    "print(y)\n",
    "\n",
    "# Option 2 (using function range). Note that the end value of range is not included\n",
    "y = list(range(2,12))\n",
    "print(y)"
   ]
  },
  {
   "cell_type": "markdown",
   "metadata": {},
   "source": [
    "**2. How many elements are in `y`? I.e what is the length of the list `y`?**"
   ]
  },
  {
   "cell_type": "code",
   "execution_count": 2,
   "metadata": {},
   "outputs": [
    {
     "data": {
      "text/plain": [
       "10"
      ]
     },
     "execution_count": 2,
     "metadata": {},
     "output_type": "execute_result"
    }
   ],
   "source": [
    "len(y)"
   ]
  },
  {
   "cell_type": "markdown",
   "metadata": {},
   "source": [
    "**3. Show the 2nd element of `y`. Remember that Python uses 0-based indexing.**"
   ]
  },
  {
   "cell_type": "code",
   "execution_count": 3,
   "metadata": {},
   "outputs": [
    {
     "data": {
      "text/plain": [
       "3"
      ]
     },
     "execution_count": 3,
     "metadata": {},
     "output_type": "execute_result"
    }
   ],
   "source": [
    "y[1]"
   ]
  },
  {
   "cell_type": "markdown",
   "metadata": {},
   "source": [
    "**4. Show from 5th to 7th element of `y`.**"
   ]
  },
  {
   "cell_type": "code",
   "execution_count": 4,
   "metadata": {},
   "outputs": [
    {
     "data": {
      "text/plain": [
       "[6, 7, 8]"
      ]
     },
     "execution_count": 4,
     "metadata": {},
     "output_type": "execute_result"
    }
   ],
   "source": [
    "y[4:7] # Note that the end value of index is not included"
   ]
  },
  {
   "cell_type": "markdown",
   "metadata": {},
   "source": [
    "**5. Show the last element of `y`.**"
   ]
  },
  {
   "cell_type": "code",
   "execution_count": 5,
   "metadata": {},
   "outputs": [
    {
     "data": {
      "text/plain": [
       "11"
      ]
     },
     "execution_count": 5,
     "metadata": {},
     "output_type": "execute_result"
    }
   ],
   "source": [
    "y[-1]"
   ]
  },
  {
   "cell_type": "markdown",
   "metadata": {},
   "source": [
    "**6. What are the minimum, maximum and sum of values in `y`?**"
   ]
  },
  {
   "cell_type": "code",
   "execution_count": 9,
   "metadata": {},
   "outputs": [
    {
     "name": "stdout",
     "output_type": "stream",
     "text": [
      "11\n",
      "2\n",
      "60\n"
     ]
    }
   ],
   "source": [
    "print(max(y))\n",
    "print(min(y))\n",
    "print(sum(y))"
   ]
  },
  {
   "cell_type": "markdown",
   "metadata": {},
   "source": [
    "**7. Check whether 1 and 9 are present in `y` list. Use the `in` operator.**"
   ]
  },
  {
   "cell_type": "code",
   "execution_count": 10,
   "metadata": {},
   "outputs": [
    {
     "name": "stdout",
     "output_type": "stream",
     "text": [
      "False\n",
      "True\n"
     ]
    }
   ],
   "source": [
    "print(1 in y)\n",
    "print(9 in y)"
   ]
  },
  {
   "cell_type": "markdown",
   "metadata": {},
   "source": [
    "**8. Create a list `x=[1,2,3,1,2,3,1,2,3]`, but expressed as a repetion of `[1,2,3]`. Use `*`.**"
   ]
  },
  {
   "cell_type": "code",
   "execution_count": 2,
   "metadata": {},
   "outputs": [
    {
     "data": {
      "text/plain": [
       "[1, 2, 3, 1, 2, 3, 1, 2, 3]"
      ]
     },
     "execution_count": 2,
     "metadata": {},
     "output_type": "execute_result"
    }
   ],
   "source": [
    "x=[1,2,3]*3\n",
    "x"
   ]
  },
  {
   "cell_type": "markdown",
   "metadata": {},
   "source": [
    "**9. Add an additional element `15` in the list `x`. Use `append`.**"
   ]
  },
  {
   "cell_type": "code",
   "execution_count": 3,
   "metadata": {},
   "outputs": [
    {
     "name": "stdout",
     "output_type": "stream",
     "text": [
      "[1, 2, 3, 1, 2, 3, 1, 2, 3, 15]\n"
     ]
    }
   ],
   "source": [
    "x.append(15)\n",
    "print(x)"
   ]
  },
  {
   "cell_type": "markdown",
   "metadata": {},
   "source": [
    "**10. Order the elements of `x` using the method `sort`.**"
   ]
  },
  {
   "cell_type": "code",
   "execution_count": 4,
   "metadata": {},
   "outputs": [
    {
     "name": "stdout",
     "output_type": "stream",
     "text": [
      "[1, 1, 1, 2, 2, 2, 3, 3, 3, 15]\n"
     ]
    }
   ],
   "source": [
    "x = sorted(x)\n",
    "x.sort()\n",
    "print(x)"
   ]
  },
  {
   "cell_type": "markdown",
   "metadata": {},
   "source": [
    "**11. Remove duplicated numbers in the list using the function `set`.**"
   ]
  },
  {
   "cell_type": "code",
   "execution_count": 15,
   "metadata": {},
   "outputs": [
    {
     "name": "stdout",
     "output_type": "stream",
     "text": [
      "{1, 2, 3, 4, 6, 72, 45, 15}\n"
     ]
    }
   ],
   "source": [
    "print(set(x))"
   ]
  },
  {
   "cell_type": "markdown",
   "metadata": {},
   "source": [
    "**12. Find the items in common between the previous list and this one: `[5, 3, 7, 4, 10, 11, 12, 72]`. Use `set.intersection()`.**"
   ]
  },
  {
   "cell_type": "code",
   "execution_count": 16,
   "metadata": {},
   "outputs": [
    {
     "data": {
      "text/plain": [
       "{3, 4, 72}"
      ]
     },
     "execution_count": 16,
     "metadata": {},
     "output_type": "execute_result"
    }
   ],
   "source": [
    "items1 = set(x)\n",
    "items2 = {5, 3, 7, 4, 10, 11, 12, 72}\n",
    "items1.intersection(items2)"
   ]
  },
  {
   "cell_type": "markdown",
   "metadata": {},
   "source": [
    "**13. Given the protein sequence \"MPISEPTFFEIF\", split the sequence into its component amino acid codes and count how many phenilalanines (F) are there.**"
   ]
  },
  {
   "cell_type": "code",
   "execution_count": 5,
   "metadata": {},
   "outputs": [
    {
     "data": {
      "text/plain": [
       "3"
      ]
     },
     "execution_count": 5,
     "metadata": {},
     "output_type": "execute_result"
    }
   ],
   "source": [
    "protein = list(\"MPISEPTFFEIF\")\n",
    "protein.count(\"F\")"
   ]
  },
  {
   "cell_type": "markdown",
   "metadata": {},
   "source": [
    "## EXERCISE 5 - Data types: dictionaries"
   ]
  },
  {
   "cell_type": "markdown",
   "metadata": {},
   "source": [
    "**1. Create a dictionary `mydict` that matches the one letter amino acid code `A`, `C`, `D` and `E` to the three letter codes `Ala`, `Cys`, `Asp`, `Glu`.**"
   ]
  },
  {
   "cell_type": "code",
   "execution_count": 1,
   "metadata": {},
   "outputs": [],
   "source": [
    "mydict = {'A': 'Ala', 'C': 'Cys', 'D': 'Asp', 'E': 'Glu'}"
   ]
  },
  {
   "cell_type": "markdown",
   "metadata": {},
   "source": [
    "**2. Print the keys and values of the dictionary. Use the methods `values` and `keys`. Print the three letter code of `C`.**"
   ]
  },
  {
   "cell_type": "code",
   "execution_count": 2,
   "metadata": {},
   "outputs": [
    {
     "name": "stdout",
     "output_type": "stream",
     "text": [
      "dict_keys(['A', 'C', 'D', 'E'])\n",
      "dict_values(['Ala', 'Cys', 'Asp', 'Glu'])\n",
      "Cys\n"
     ]
    }
   ],
   "source": [
    "print(mydict.keys())\n",
    "print(mydict.values())\n",
    "print(mydict['C'])"
   ]
  },
  {
   "cell_type": "markdown",
   "metadata": {},
   "source": [
    "**3. Add phenilalanine to `mydict`.**"
   ]
  },
  {
   "cell_type": "code",
   "execution_count": 105,
   "metadata": {},
   "outputs": [],
   "source": [
    "mydict['F'] = 'Phe'"
   ]
  },
  {
   "cell_type": "markdown",
   "metadata": {},
   "source": [
    "**4. Add a fake amino acid `A` that matches to `Fake` value. Print `mydict`.**"
   ]
  },
  {
   "cell_type": "code",
   "execution_count": 106,
   "metadata": {},
   "outputs": [
    {
     "name": "stdout",
     "output_type": "stream",
     "text": [
      "{'A': 'Fake', 'C': 'Cys', 'D': 'Asp', 'E': 'Glu', 'F': 'Phe'}\n"
     ]
    }
   ],
   "source": [
    "mydict['A'] = 'Fake'\n",
    "print(mydict) # Note that we have renamed the previous alanine. No duplicated keys are allowed."
   ]
  },
  {
   "cell_type": "markdown",
   "metadata": {},
   "source": [
    "## EXERCISE 6 - if...else statements"
   ]
  },
  {
   "cell_type": "code",
   "execution_count": 4,
   "metadata": {},
   "outputs": [],
   "source": [
    "fruit = [\"kiwi\", \"apple\", \"pear\", \"grape\"]\n",
    "fruit2 = [\"cherry\", \"strawberry\", \"blueberry\", \"peach\"]"
   ]
  },
  {
   "cell_type": "markdown",
   "metadata": {},
   "source": [
    "**1. Use an `if` statement and the `in` function to check whether \"apple\" is present in `fruit`. If yes, print “There is an apple!”).**"
   ]
  },
  {
   "cell_type": "code",
   "execution_count": 2,
   "metadata": {},
   "outputs": [
    {
     "name": "stdout",
     "output_type": "stream",
     "text": [
      "There is an apple!\n"
     ]
    }
   ],
   "source": [
    "if \"apple\" in fruit:\n",
    "    print(\"There is an apple!\")"
   ]
  },
  {
   "cell_type": "markdown",
   "metadata": {},
   "source": [
    "**2. Use an `if` statement and the `in` function to check whether \"grapefruit\" is present in `fruit`. If no, test whether \"pear\" is found. Print accordingly.**"
   ]
  },
  {
   "cell_type": "code",
   "execution_count": 3,
   "metadata": {},
   "outputs": [
    {
     "name": "stdout",
     "output_type": "stream",
     "text": [
      "There is no grapefruit, but there is a pear!\n"
     ]
    }
   ],
   "source": [
    "if \"grapefruit\" in fruit:\n",
    "    print(\"There is a grapefruit!\")\n",
    "elif \"pear\" in fruit:\n",
    "    print(\"There is no grapefruit, but there is a pear!\")"
   ]
  },
  {
   "cell_type": "markdown",
   "metadata": {},
   "source": [
    "**3. Add an `else` section in case neither \"grapefruit\" nor \"pear\" is found in `fruit`. Test your `if` statement also on `fruit2`:**"
   ]
  },
  {
   "cell_type": "code",
   "execution_count": 5,
   "metadata": {},
   "outputs": [
    {
     "name": "stdout",
     "output_type": "stream",
     "text": [
      "There is no grapefruit, but there is a pear!\n"
     ]
    }
   ],
   "source": [
    "if \"grapefruit\" in fruit:\n",
    "    print(\"There is a grapefruit!\")\n",
    "elif \"pear\" in fruit:\n",
    "    print(\"There is no grapefruit, but there is a pear!\")\n",
    "else:\n",
    "    print(\"No grapefruit and no pear can be found.\")"
   ]
  },
  {
   "cell_type": "code",
   "execution_count": 6,
   "metadata": {},
   "outputs": [
    {
     "name": "stdout",
     "output_type": "stream",
     "text": [
      "No grapefruit and no pear can be found.\n"
     ]
    }
   ],
   "source": [
    "if \"grapefruit\" in fruit2:\n",
    "    print(\"There is a grapefruit!\")\n",
    "elif \"pear\" in fruit2:\n",
    "    print(\"There is no grapefruit, but there is a pear!\")\n",
    "else:\n",
    "    print(\"No grapefruit and no pear can be found.\")"
   ]
  },
  {
   "cell_type": "markdown",
   "metadata": {},
   "source": [
    "**4. Check whether the sequence \"ATGGCGGTCGAATAG\" contains a stop codon (TAG, TAA, TGA). Ignore the frame.**"
   ]
  },
  {
   "cell_type": "code",
   "execution_count": 9,
   "metadata": {},
   "outputs": [
    {
     "name": "stdout",
     "output_type": "stream",
     "text": [
      "The sequence ATGGCGGTCGAATAG contains a Stop codon.\n"
     ]
    }
   ],
   "source": [
    "sequence = \"ATGGCGGTCGAATAG\"\n",
    "if (\"TAG\" in sequence) or (\"TAA\" in sequence) or (\"TGA\" in sequence):\n",
    "    print(\"The sequence %s contains a Stop codon.\" % sequence)\n",
    "else:\n",
    "    print(\"The sequence %s does not contain any Stop codon.\" % sequence)"
   ]
  },
  {
   "cell_type": "markdown",
   "metadata": {},
   "source": [
    "## EXERCISE 7 - For loops"
   ]
  },
  {
   "cell_type": "markdown",
   "metadata": {},
   "source": [
    "**1. Write a `for` loop that iterates over the sequence of numbers 2 to 10 (both included), and prints the square of each number (function ` **2`).**"
   ]
  },
  {
   "cell_type": "code",
   "execution_count": 7,
   "metadata": {},
   "outputs": [
    {
     "name": "stdout",
     "output_type": "stream",
     "text": [
      "4\n",
      "9\n",
      "16\n",
      "25\n",
      "36\n",
      "49\n",
      "64\n",
      "81\n",
      "100\n"
     ]
    }
   ],
   "source": [
    "for n in range(2,11):\n",
    "    print(n**2)"
   ]
  },
  {
   "cell_type": "markdown",
   "metadata": {},
   "source": [
    "**2. Write a `for` loop that iterates over the sequence of numbers 5 to 15 (both included), and prints a new list of 2 elements containing the number and its square.**"
   ]
  },
  {
   "cell_type": "code",
   "execution_count": 8,
   "metadata": {},
   "outputs": [
    {
     "name": "stdout",
     "output_type": "stream",
     "text": [
      "[5, 25]\n",
      "[6, 36]\n",
      "[7, 49]\n",
      "[8, 64]\n",
      "[9, 81]\n",
      "[10, 100]\n",
      "[11, 121]\n",
      "[12, 144]\n",
      "[13, 169]\n",
      "[14, 196]\n",
      "[15, 225]\n"
     ]
    }
   ],
   "source": [
    "for n in range(5,16):\n",
    "    new_list = [n,n**2]\n",
    "    print(new_list)"
   ]
  },
  {
   "cell_type": "markdown",
   "metadata": {},
   "source": [
    "**3. Write a program where you print out all positive numbers up to 1000 that can be divided by 13, or 17, or both.**"
   ]
  },
  {
   "cell_type": "code",
   "execution_count": 4,
   "metadata": {},
   "outputs": [
    {
     "name": "stdout",
     "output_type": "stream",
     "text": [
      "Number 13 is divisible by [13]\n",
      "Number 17 is divisible by [17]\n",
      "Number 26 is divisible by [13]\n",
      "Number 34 is divisible by [17]\n",
      "Number 39 is divisible by [13]\n",
      "Number 51 is divisible by [17]\n",
      "Number 52 is divisible by [13]\n",
      "Number 65 is divisible by [13]\n",
      "Number 68 is divisible by [17]\n",
      "Number 78 is divisible by [13]\n",
      "Number 85 is divisible by [17]\n",
      "Number 91 is divisible by [13]\n",
      "Number 102 is divisible by [17]\n",
      "Number 104 is divisible by [13]\n",
      "Number 117 is divisible by [13]\n",
      "Number 119 is divisible by [17]\n",
      "Number 130 is divisible by [13]\n",
      "Number 136 is divisible by [17]\n",
      "Number 143 is divisible by [13]\n",
      "Number 153 is divisible by [17]\n",
      "Number 156 is divisible by [13]\n",
      "Number 169 is divisible by [13]\n",
      "Number 170 is divisible by [17]\n",
      "Number 182 is divisible by [13]\n",
      "Number 187 is divisible by [17]\n",
      "Number 195 is divisible by [13]\n",
      "Number 204 is divisible by [17]\n",
      "Number 208 is divisible by [13]\n",
      "Number 221 is divisible by [13, 17]\n",
      "Number 234 is divisible by [13]\n",
      "Number 238 is divisible by [17]\n",
      "Number 247 is divisible by [13]\n",
      "Number 255 is divisible by [17]\n",
      "Number 260 is divisible by [13]\n",
      "Number 272 is divisible by [17]\n",
      "Number 273 is divisible by [13]\n",
      "Number 286 is divisible by [13]\n",
      "Number 289 is divisible by [17]\n",
      "Number 299 is divisible by [13]\n",
      "Number 306 is divisible by [17]\n",
      "Number 312 is divisible by [13]\n",
      "Number 323 is divisible by [17]\n",
      "Number 325 is divisible by [13]\n",
      "Number 338 is divisible by [13]\n",
      "Number 340 is divisible by [17]\n",
      "Number 351 is divisible by [13]\n",
      "Number 357 is divisible by [17]\n",
      "Number 364 is divisible by [13]\n",
      "Number 374 is divisible by [17]\n",
      "Number 377 is divisible by [13]\n",
      "Number 390 is divisible by [13]\n",
      "Number 391 is divisible by [17]\n",
      "Number 403 is divisible by [13]\n",
      "Number 408 is divisible by [17]\n",
      "Number 416 is divisible by [13]\n",
      "Number 425 is divisible by [17]\n",
      "Number 429 is divisible by [13]\n",
      "Number 442 is divisible by [13, 17]\n",
      "Number 455 is divisible by [13]\n",
      "Number 459 is divisible by [17]\n",
      "Number 468 is divisible by [13]\n",
      "Number 476 is divisible by [17]\n",
      "Number 481 is divisible by [13]\n",
      "Number 493 is divisible by [17]\n",
      "Number 494 is divisible by [13]\n",
      "Number 507 is divisible by [13]\n",
      "Number 510 is divisible by [17]\n",
      "Number 520 is divisible by [13]\n",
      "Number 527 is divisible by [17]\n",
      "Number 533 is divisible by [13]\n",
      "Number 544 is divisible by [17]\n",
      "Number 546 is divisible by [13]\n",
      "Number 559 is divisible by [13]\n",
      "Number 561 is divisible by [17]\n",
      "Number 572 is divisible by [13]\n",
      "Number 578 is divisible by [17]\n",
      "Number 585 is divisible by [13]\n",
      "Number 595 is divisible by [17]\n",
      "Number 598 is divisible by [13]\n",
      "Number 611 is divisible by [13]\n",
      "Number 612 is divisible by [17]\n",
      "Number 624 is divisible by [13]\n",
      "Number 629 is divisible by [17]\n",
      "Number 637 is divisible by [13]\n",
      "Number 646 is divisible by [17]\n",
      "Number 650 is divisible by [13]\n",
      "Number 663 is divisible by [13, 17]\n",
      "Number 676 is divisible by [13]\n",
      "Number 680 is divisible by [17]\n",
      "Number 689 is divisible by [13]\n",
      "Number 697 is divisible by [17]\n",
      "Number 702 is divisible by [13]\n",
      "Number 714 is divisible by [17]\n",
      "Number 715 is divisible by [13]\n",
      "Number 728 is divisible by [13]\n",
      "Number 731 is divisible by [17]\n",
      "Number 741 is divisible by [13]\n",
      "Number 748 is divisible by [17]\n",
      "Number 754 is divisible by [13]\n",
      "Number 765 is divisible by [17]\n",
      "Number 767 is divisible by [13]\n",
      "Number 780 is divisible by [13]\n",
      "Number 782 is divisible by [17]\n",
      "Number 793 is divisible by [13]\n",
      "Number 799 is divisible by [17]\n",
      "Number 806 is divisible by [13]\n",
      "Number 816 is divisible by [17]\n",
      "Number 819 is divisible by [13]\n",
      "Number 832 is divisible by [13]\n",
      "Number 833 is divisible by [17]\n",
      "Number 845 is divisible by [13]\n",
      "Number 850 is divisible by [17]\n",
      "Number 858 is divisible by [13]\n",
      "Number 867 is divisible by [17]\n",
      "Number 871 is divisible by [13]\n",
      "Number 884 is divisible by [13, 17]\n",
      "Number 897 is divisible by [13]\n",
      "Number 901 is divisible by [17]\n",
      "Number 910 is divisible by [13]\n",
      "Number 918 is divisible by [17]\n",
      "Number 923 is divisible by [13]\n",
      "Number 935 is divisible by [17]\n",
      "Number 936 is divisible by [13]\n",
      "Number 949 is divisible by [13]\n",
      "Number 952 is divisible by [17]\n",
      "Number 962 is divisible by [13]\n",
      "Number 969 is divisible by [17]\n",
      "Number 975 is divisible by [13]\n",
      "Number 986 is divisible by [17]\n",
      "Number 988 is divisible by [13]\n"
     ]
    }
   ],
   "source": [
    "# Create 2 objects: myNumbers and myDividers\n",
    "myNumbers = range(1,1001)\n",
    "myDividers = [13,17]   # We will loop over these in the loop itself, so it's easy to add new numbers to this\n",
    "\n",
    "# Loop through all numbers and, if dividable, print it and its dividers.\n",
    "for myNumber in myNumbers:\n",
    "    validDividers = []     # In this list we will put all the valid dividers\n",
    "\n",
    "    for myDivider in myDividers:\n",
    "        if (myNumber % myDivider)==0:\n",
    "            validDividers.append(myDivider)\n",
    "\n",
    "    if validDividers:      # This means that the list has to have values in it\n",
    "        print(\"Number %i is divisible by %s\" % (myNumber,validDividers))"
   ]
  },
  {
   "cell_type": "markdown",
   "metadata": {},
   "source": [
    "**4. Write a program where you find, for each positive number up to 50, all numbers that can divide each number in this range.**"
   ]
  },
  {
   "cell_type": "code",
   "execution_count": 8,
   "metadata": {},
   "outputs": [
    {
     "name": "stdout",
     "output_type": "stream",
     "text": [
      "Number 1 can be divided by [1]\n",
      "Number 2 can be divided by [1, 2]\n",
      "Number 3 can be divided by [1, 3]\n",
      "Number 4 can be divided by [1, 2, 4]\n",
      "Number 5 can be divided by [1, 5]\n",
      "Number 6 can be divided by [1, 2, 3, 6]\n",
      "Number 7 can be divided by [1, 7]\n",
      "Number 8 can be divided by [1, 2, 4, 8]\n",
      "Number 9 can be divided by [1, 3, 9]\n",
      "Number 10 can be divided by [1, 2, 5, 10]\n",
      "Number 11 can be divided by [1, 11]\n",
      "Number 12 can be divided by [1, 2, 3, 4, 6, 12]\n",
      "Number 13 can be divided by [1, 13]\n",
      "Number 14 can be divided by [1, 2, 7, 14]\n",
      "Number 15 can be divided by [1, 3, 5, 15]\n",
      "Number 16 can be divided by [1, 2, 4, 8, 16]\n",
      "Number 17 can be divided by [1, 17]\n",
      "Number 18 can be divided by [1, 2, 3, 6, 9, 18]\n",
      "Number 19 can be divided by [1, 19]\n",
      "Number 20 can be divided by [1, 2, 4, 5, 10, 20]\n",
      "Number 21 can be divided by [1, 3, 7, 21]\n",
      "Number 22 can be divided by [1, 2, 11, 22]\n",
      "Number 23 can be divided by [1, 23]\n",
      "Number 24 can be divided by [1, 2, 3, 4, 6, 8, 12, 24]\n",
      "Number 25 can be divided by [1, 5, 25]\n",
      "Number 26 can be divided by [1, 2, 13, 26]\n",
      "Number 27 can be divided by [1, 3, 9, 27]\n",
      "Number 28 can be divided by [1, 2, 4, 7, 14, 28]\n",
      "Number 29 can be divided by [1, 29]\n",
      "Number 30 can be divided by [1, 2, 3, 5, 6, 10, 15, 30]\n",
      "Number 31 can be divided by [1, 31]\n",
      "Number 32 can be divided by [1, 2, 4, 8, 16, 32]\n",
      "Number 33 can be divided by [1, 3, 11, 33]\n",
      "Number 34 can be divided by [1, 2, 17, 34]\n",
      "Number 35 can be divided by [1, 5, 7, 35]\n",
      "Number 36 can be divided by [1, 2, 3, 4, 6, 9, 12, 18, 36]\n",
      "Number 37 can be divided by [1, 37]\n",
      "Number 38 can be divided by [1, 2, 19, 38]\n",
      "Number 39 can be divided by [1, 3, 13, 39]\n",
      "Number 40 can be divided by [1, 2, 4, 5, 8, 10, 20, 40]\n",
      "Number 41 can be divided by [1, 41]\n",
      "Number 42 can be divided by [1, 2, 3, 6, 7, 14, 21, 42]\n",
      "Number 43 can be divided by [1, 43]\n",
      "Number 44 can be divided by [1, 2, 4, 11, 22, 44]\n",
      "Number 45 can be divided by [1, 3, 5, 9, 15, 45]\n",
      "Number 46 can be divided by [1, 2, 23, 46]\n",
      "Number 47 can be divided by [1, 47]\n",
      "Number 48 can be divided by [1, 2, 3, 4, 6, 8, 12, 16, 24, 48]\n",
      "Number 49 can be divided by [1, 7, 49]\n",
      "Number 50 can be divided by [1, 2, 5, 10, 25, 50]\n"
     ]
    }
   ],
   "source": [
    "myNumbers = range(1,51)\n",
    " \n",
    "for x in myNumbers:\n",
    "    dividers = []\n",
    "    for y in range(1,x+1): # remember that the end value is not included in range\n",
    "        if (x % y)==0:\n",
    "            dividers.append(y)\n",
    "    \n",
    "    print (\"Number %i can be divided by %s\" % (x,dividers))"
   ]
  },
  {
   "cell_type": "markdown",
   "metadata": {},
   "source": [
    "**5. Write a program where you start with a list of numbers from 1 to 100, and you then remove every number from this list that can be divided by 3 or by 5. Print the result.**"
   ]
  },
  {
   "cell_type": "code",
   "execution_count": 10,
   "metadata": {},
   "outputs": [
    {
     "name": "stdout",
     "output_type": "stream",
     "text": [
      "[1, 2, 4, 7, 8, 11, 13, 14, 16, 17, 19, 22, 23, 26, 28, 29, 31, 32, 34, 37, 38, 41, 43, 44, 46, 47, 49, 52, 53, 56, 58, 59, 61, 62, 64, 67, 68, 71, 73, 74, 76, 77, 79, 82, 83, 86, 88, 89, 91, 92, 94, 97, 98]\n"
     ]
    }
   ],
   "source": [
    "myNumberList = list(range(1,101))\n",
    " \n",
    "# You have to make a copy of the original list here (using [:]), otherwise Python will get 'confused'\n",
    "# when you remove values from the list while it's looping over it\n",
    "for number in myNumberList[:]:  \n",
    "    if (number % 3)==0 or (number % 5)==0:\n",
    "        myNumberList.remove(number)\n",
    "\n",
    "print(myNumberList)"
   ]
  },
  {
   "cell_type": "markdown",
   "metadata": {},
   "source": [
    "## EXERCISE 8 - List comprehension\n",
    "Remember that all list comprehensions can be also expressed as a for loop. Please formulate the answers as list comprehensions for practice."
   ]
  },
  {
   "cell_type": "markdown",
   "metadata": {},
   "source": [
    "**1. Create a list of integers which specify the length of each word in `mysentence`, but only if the word is not the word \"the\".**"
   ]
  },
  {
   "cell_type": "code",
   "execution_count": 2,
   "metadata": {},
   "outputs": [
    {
     "name": "stdout",
     "output_type": "stream",
     "text": [
      "['the', 'quick', 'brown', 'fox', 'jumps', 'over', 'the', 'lazy', 'dog']\n",
      "[5, 5, 3, 5, 4, 4, 3]\n"
     ]
    }
   ],
   "source": [
    "mysentence = \"the quick brown fox jumps over the lazy dog\"\n",
    "\n",
    "words = mysentence.split()\n",
    "word_lengths = [len(word) for word in words if word != \"the\"]\n",
    "print(words)\n",
    "print(word_lengths)"
   ]
  },
  {
   "cell_type": "markdown",
   "metadata": {},
   "source": [
    "**2. Create a new list called `newlist` out of the list `numbers`, which contains only the positive numbers from the list, as integers.**"
   ]
  },
  {
   "cell_type": "code",
   "execution_count": 3,
   "metadata": {},
   "outputs": [
    {
     "name": "stdout",
     "output_type": "stream",
     "text": [
      "[34, 44, 68, 44, 12]\n"
     ]
    }
   ],
   "source": [
    "numbers = [34.6, -203.4, 44.9, 68.3, -12.2, 44.6, 12.7]\n",
    "\n",
    "newlist = [int(x) for x in numbers if x > 0]\n",
    "print(newlist)"
   ]
  },
  {
   "cell_type": "markdown",
   "metadata": {},
   "source": [
    "**3. Remove all of the vowels in `mysentence`.**"
   ]
  },
  {
   "cell_type": "code",
   "execution_count": 9,
   "metadata": {},
   "outputs": [
    {
     "name": "stdout",
     "output_type": "stream",
     "text": [
      "th qck brwn fx jmps vr th lzy dg\n"
     ]
    }
   ],
   "source": [
    "mysentence = \"the quick brown fox jumps over the lazy dog\"\n",
    "\n",
    "vowels = ['a','e','i','o','u']\n",
    "novowel_list = [letter for letter in mysentence if letter.lower() not in vowels]\n",
    "novowel_string = \"\".join(novowel_list) # Collapse the results in novowel_list into a string again\n",
    "print(novowel_string)"
   ]
  },
  {
   "cell_type": "markdown",
   "metadata": {},
   "source": [
    "**4. Use a nested list comprehension to find all of the numbers from 1-1000 that are divisible by any single digit besides 1 (2-9).**"
   ]
  },
  {
   "cell_type": "code",
   "execution_count": 12,
   "metadata": {},
   "outputs": [
    {
     "name": "stdout",
     "output_type": "stream",
     "text": [
      "[2, 3, 4, 5, 6, 7, 8, 9, 10, 12, 14, 15, 16, 18, 20, 21, 22, 24, 25, 26, 27, 28, 30, 32, 33, 34, 35, 36, 38, 39, 40, 42, 44, 45, 46, 48, 49, 50, 51, 52, 54, 55, 56, 57, 58, 60, 62, 63, 64, 65, 66, 68, 69, 70, 72, 74, 75, 76, 77, 78, 80, 81, 82, 84, 85, 86, 87, 88, 90, 91, 92, 93, 94, 95, 96, 98, 99, 100, 102, 104, 105, 106, 108, 110, 111, 112, 114, 115, 116, 117, 118, 119, 120, 122, 123, 124, 125, 126, 128, 129, 130, 132, 133, 134, 135, 136, 138, 140, 141, 142, 144, 145, 146, 147, 148, 150, 152, 153, 154, 155, 156, 158, 159, 160, 161, 162, 164, 165, 166, 168, 170, 171, 172, 174, 175, 176, 177, 178, 180, 182, 183, 184, 185, 186, 188, 189, 190, 192, 194, 195, 196, 198, 200, 201, 202, 203, 204, 205, 206, 207, 208, 210, 212, 213, 214, 215, 216, 217, 218, 219, 220, 222, 224, 225, 226, 228, 230, 231, 232, 234, 235, 236, 237, 238, 240, 242, 243, 244, 245, 246, 248, 249, 250, 252, 254, 255, 256, 258, 259, 260, 261, 262, 264, 265, 266, 267, 268, 270, 272, 273, 274, 275, 276, 278, 279, 280, 282, 284, 285, 286, 287, 288, 290, 291, 292, 294, 295, 296, 297, 298, 300, 301, 302, 303, 304, 305, 306, 308, 309, 310, 312, 314, 315, 316, 318, 320, 321, 322, 324, 325, 326, 327, 328, 329, 330, 332, 333, 334, 335, 336, 338, 339, 340, 342, 343, 344, 345, 346, 348, 350, 351, 352, 354, 355, 356, 357, 358, 360, 362, 363, 364, 365, 366, 368, 369, 370, 371, 372, 374, 375, 376, 378, 380, 381, 382, 384, 385, 386, 387, 388, 390, 392, 393, 394, 395, 396, 398, 399, 400, 402, 404, 405, 406, 408, 410, 411, 412, 413, 414, 415, 416, 417, 418, 420, 422, 423, 424, 425, 426, 427, 428, 429, 430, 432, 434, 435, 436, 438, 440, 441, 442, 444, 445, 446, 447, 448, 450, 452, 453, 454, 455, 456, 458, 459, 460, 462, 464, 465, 466, 468, 469, 470, 471, 472, 474, 475, 476, 477, 478, 480, 482, 483, 484, 485, 486, 488, 489, 490, 492, 494, 495, 496, 497, 498, 500, 501, 502, 504, 505, 506, 507, 508, 510, 511, 512, 513, 514, 515, 516, 518, 519, 520, 522, 524, 525, 526, 528, 530, 531, 532, 534, 535, 536, 537, 538, 539, 540, 542, 543, 544, 545, 546, 548, 549, 550, 552, 553, 554, 555, 556, 558, 560, 561, 562, 564, 565, 566, 567, 568, 570, 572, 573, 574, 575, 576, 578, 579, 580, 581, 582, 584, 585, 586, 588, 590, 591, 592, 594, 595, 596, 597, 598, 600, 602, 603, 604, 605, 606, 608, 609, 610, 612, 614, 615, 616, 618, 620, 621, 622, 623, 624, 625, 626, 627, 628, 630, 632, 633, 634, 635, 636, 637, 638, 639, 640, 642, 644, 645, 646, 648, 650, 651, 652, 654, 655, 656, 657, 658, 660, 662, 663, 664, 665, 666, 668, 669, 670, 672, 674, 675, 676, 678, 679, 680, 681, 682, 684, 685, 686, 687, 688, 690, 692, 693, 694, 695, 696, 698, 699, 700, 702, 704, 705, 706, 707, 708, 710, 711, 712, 714, 715, 716, 717, 718, 720, 721, 722, 723, 724, 725, 726, 728, 729, 730, 732, 734, 735, 736, 738, 740, 741, 742, 744, 745, 746, 747, 748, 749, 750, 752, 753, 754, 755, 756, 758, 759, 760, 762, 763, 764, 765, 766, 768, 770, 771, 772, 774, 775, 776, 777, 778, 780, 782, 783, 784, 785, 786, 788, 789, 790, 791, 792, 794, 795, 796, 798, 800, 801, 802, 804, 805, 806, 807, 808, 810, 812, 813, 814, 815, 816, 818, 819, 820, 822, 824, 825, 826, 828, 830, 831, 832, 833, 834, 835, 836, 837, 838, 840, 842, 843, 844, 845, 846, 847, 848, 849, 850, 852, 854, 855, 856, 858, 860, 861, 862, 864, 865, 866, 867, 868, 870, 872, 873, 874, 875, 876, 878, 879, 880, 882, 884, 885, 886, 888, 889, 890, 891, 892, 894, 895, 896, 897, 898, 900, 902, 903, 904, 905, 906, 908, 909, 910, 912, 914, 915, 916, 917, 918, 920, 921, 922, 924, 925, 926, 927, 928, 930, 931, 932, 933, 934, 935, 936, 938, 939, 940, 942, 944, 945, 946, 948, 950, 951, 952, 954, 955, 956, 957, 958, 959, 960, 962, 963, 964, 965, 966, 968, 969, 970, 972, 973, 974, 975, 976, 978, 980, 981, 982, 984, 985, 986, 987, 988, 990, 992, 993, 994, 995, 996, 998, 999, 1000]\n"
     ]
    }
   ],
   "source": [
    "results = [number for number in range(1,1001) if [divisor for divisor in range(2,10) if number % divisor == 0]]\n",
    "print(results)"
   ]
  },
  {
   "cell_type": "markdown",
   "metadata": {},
   "source": [
    "**5. Print out the amino acid sequence that would be produced by the DNA sequence \"GTTGCACCACAACCG\". Use genetic code below.**"
   ]
  },
  {
   "cell_type": "code",
   "execution_count": 1,
   "metadata": {},
   "outputs": [],
   "source": [
    "GENETIC_CODE = {\n",
    "    'ATA':'I', 'ATC':'I', 'ATT':'I', 'ATG':'M',\n",
    "    'ACA':'T', 'ACC':'T', 'ACG':'T', 'ACT':'T',\n",
    "    'AAC':'N', 'AAT':'N', 'AAA':'K', 'AAG':'K',\n",
    "    'AGC':'S', 'AGT':'S', 'AGA':'R', 'AGG':'R',\n",
    "    'CTA':'L', 'CTC':'L', 'CTG':'L', 'CTT':'L',\n",
    "    'CCA':'P', 'CCC':'P', 'CCG':'P', 'CCT':'P',\n",
    "    'CAC':'H', 'CAT':'H', 'CAA':'Q', 'CAG':'Q',\n",
    "    'CGA':'R', 'CGC':'R', 'CGG':'R', 'CGT':'R',\n",
    "    'GTA':'V', 'GTC':'V', 'GTG':'V', 'GTT':'V',\n",
    "    'GCA':'A', 'GCC':'A', 'GCG':'A', 'GCT':'A',\n",
    "    'GAC':'D', 'GAT':'D', 'GAA':'E', 'GAG':'E',\n",
    "    'GGA':'G', 'GGC':'G', 'GGG':'G', 'GGT':'G',\n",
    "    'TCA':'S', 'TCC':'S', 'TCG':'S', 'TCT':'S',\n",
    "    'TTC':'F', 'TTT':'F', 'TTA':'L', 'TTG':'L',\n",
    "    'TAC':'Y', 'TAT':'Y', 'TAA':'_', 'TAG':'_',\n",
    "    'TGC':'C', 'TGT':'C', 'TGA':'_', 'TGG':'W'}"
   ]
  },
  {
   "cell_type": "code",
   "execution_count": 2,
   "metadata": {},
   "outputs": [
    {
     "name": "stdout",
     "output_type": "stream",
     "text": [
      "VAPQP\n"
     ]
    }
   ],
   "source": [
    "sequence = \"GTTGCACCACAACCG\"\n",
    "seq_codons = [sequence[n:n+3] for n in range(0,len(sequence),3)] # Separate sequence into codons\n",
    "seq_aa = [GENETIC_CODE[c] for c in seq_codons]\n",
    "translated_seq = \"\".join(seq_aa)\n",
    "print(translated_seq)"
   ]
  },
  {
   "cell_type": "markdown",
   "metadata": {},
   "source": [
    "## EXERCISE 9 - Functions"
   ]
  },
  {
   "cell_type": "markdown",
   "metadata": {},
   "source": [
    "**1. Write a function to multiply all the numbers in a list.**"
   ]
  },
  {
   "cell_type": "code",
   "execution_count": 2,
   "metadata": {},
   "outputs": [
    {
     "name": "stdout",
     "output_type": "stream",
     "text": [
      "-336\n",
      "-182.0\n"
     ]
    }
   ],
   "source": [
    "def multiply(numbers):  \n",
    "    total = 1\n",
    "    for x in numbers:\n",
    "        total *= x  \n",
    "    return total\n",
    "\n",
    "print(multiply([8, 2, 3, -1, 7]))\n",
    "print(multiply([1, -2, 0.2, 91, 5]))"
   ]
  },
  {
   "cell_type": "markdown",
   "metadata": {},
   "source": [
    "**2. Write a function that computes the absolute of a number. Compare it to the built-in function `abs()`.**"
   ]
  },
  {
   "cell_type": "code",
   "execution_count": 4,
   "metadata": {},
   "outputs": [
    {
     "name": "stdout",
     "output_type": "stream",
     "text": [
      "10\n",
      "10\n"
     ]
    }
   ],
   "source": [
    "def myAbsFunc(someValue):\n",
    "    if someValue < 0:\n",
    "        someValue = -someValue\n",
    "    return someValue\n",
    "\n",
    "print(abs(-10))\n",
    "print(myAbsFunc(-10))"
   ]
  },
  {
   "cell_type": "markdown",
   "metadata": {},
   "source": [
    "**3. Write a function that computes the mean of a list of numbers.**"
   ]
  },
  {
   "cell_type": "code",
   "execution_count": 5,
   "metadata": {},
   "outputs": [
    {
     "name": "stdout",
     "output_type": "stream",
     "text": [
      "27.75\n",
      "4916309.285714285\n"
     ]
    }
   ],
   "source": [
    "def getMeanValue(valueList):\n",
    "    # It is good practice to comment functions on top to describe what they do:\n",
    "    \"\"\"\n",
    "    Calculate the mean (average) value from a list of values.\n",
    "    Input: list of integers/floats\n",
    "    Output: mean value\n",
    "    \"\"\"\n",
    "    \n",
    "    valueTotal = 0.0\n",
    "    \n",
    "    for value in valueList:\n",
    "        valueTotal += value\n",
    "    \n",
    "    numberValues = len(valueList)\n",
    "    \n",
    "    return (valueTotal/numberValues)\n",
    " \n",
    "meanValue = getMeanValue([4,6,77,3,67,54,6,5])\n",
    "print(meanValue)\n",
    "print(getMeanValue([3443,434,34343456,32434,34,34341,23]))"
   ]
  },
  {
   "cell_type": "markdown",
   "metadata": {},
   "source": [
    "**4. Write a function `complementDNA` that produces the complement of a DNA sequence (converts A to T and C to G, and vice versa).**"
   ]
  },
  {
   "cell_type": "code",
   "execution_count": 9,
   "metadata": {},
   "outputs": [
    {
     "name": "stdout",
     "output_type": "stream",
     "text": [
      "TAGCCGAAAGCTTTAGCTGTACTGTTCTATGTCTATGTCTAAAT\n"
     ]
    }
   ],
   "source": [
    "def complementDNA(sequence):\n",
    "    # Create dictionary with the complementary bases\n",
    "    complement = {'A': 'T', 'C': 'G', 'G': 'C', 'T': 'A'} \n",
    "    # Separate sequence into bases\n",
    "    bases = list(sequence)\n",
    "    # Get the complement bases\n",
    "    comp_bases = [complement[base] for base in bases]\n",
    "    # Re-join bases into a sequence\n",
    "    comp_sequence = ''.join(comp_bases)\n",
    "    return comp_sequence\n",
    "    \n",
    "    \n",
    "seq = \"ATCGGCTTTCGAAATCGACATGACAAGATACAGATACAGATTTA\"\n",
    "print(complementDNA(seq))"
   ]
  },
  {
   "cell_type": "markdown",
   "metadata": {},
   "source": [
    "**5. Add a second argument to `complementDNA` called `reverse`, which defaults to \"False\". Change the function so that it prints the reverse sequence when `reverse = True`.**\n",
    "NOTE: In biology, you may want to work with the reverse-complement of a sequence if it contains an ORF on the reverse strand."
   ]
  },
  {
   "cell_type": "code",
   "execution_count": 11,
   "metadata": {},
   "outputs": [
    {
     "name": "stdout",
     "output_type": "stream",
     "text": [
      "TAGCCGAAAGCTTTAGCTGTACTGTTCTATGTCTATGTCTAAAT\n",
      "TAAATCTGTATCTGTATCTTGTCATGTCGATTTCGAAAGCCGAT\n"
     ]
    }
   ],
   "source": [
    "def complementDNA(sequence, reverse = False):\n",
    "    # Create dictionary with the complementary bases\n",
    "    complement = {'A': 'T', 'C': 'G', 'G': 'C', 'T': 'A'} \n",
    "    # Separate sequence into bases\n",
    "    bases = list(sequence)\n",
    "    # Get the complement bases\n",
    "    comp_bases = [complement[base] for base in bases]\n",
    "    # Re-join bases into a sequence\n",
    "    comp_sequence = ''.join(comp_bases)\n",
    "    \n",
    "    # If reverse is True, get the reversed sequence\n",
    "    if reverse:\n",
    "        return comp_sequence[::-1]\n",
    "    else:\n",
    "        return comp_sequence\n",
    "    \n",
    "    \n",
    "seq = \"ATCGGCTTTCGAAATCGACATGACAAGATACAGATACAGATTTA\"\n",
    "print(complementDNA(seq))\n",
    "print(complementDNA(seq,True))"
   ]
  },
  {
   "cell_type": "markdown",
   "metadata": {},
   "source": [
    "**6. Write a function to that calculates the GC content of a sequence. Test it with the sequence \"ATCGGCTTTC\".**"
   ]
  },
  {
   "cell_type": "code",
   "execution_count": 13,
   "metadata": {},
   "outputs": [
    {
     "data": {
      "text/plain": [
       "50.0"
      ]
     },
     "execution_count": 13,
     "metadata": {},
     "output_type": "execute_result"
    }
   ],
   "source": [
    "def GCcontent(sequence):\n",
    "    count = 0\n",
    "    for n in sequence:\n",
    "        if n in [\"G\",\"C\"]:\n",
    "            count += 1\n",
    "    return count*100/len(sequence)\n",
    "\n",
    "# Test function:\n",
    "GCcontent(\"ATCGGCTTTC\")"
   ]
  },
  {
   "cell_type": "markdown",
   "metadata": {},
   "source": [
    "**7. Read the lyrics of Imagine by John Lennon, 1971 from the file in \"imagine.txt\". Split the text into words. Print the total number of words, and the number of distinct words. Calculate the frequency of each distinct word and store the result into a dictionary. Find the most frequent word longer than 3 characters in the song, print it with its frequency.**"
   ]
  },
  {
   "cell_type": "code",
   "execution_count": 45,
   "metadata": {},
   "outputs": [
    {
     "name": "stdout",
     "output_type": "stream",
     "text": [
      "Imagin contains 133 words, 69 of them are different.\n",
      "imagine is the most frequent word being used 6 times.\n"
     ]
    }
   ],
   "source": [
    "# Read lyrics from file\n",
    "fileHandle = open('data/imagine.txt')\n",
    "lyrics = fileHandle.readlines()\n",
    "fileHandle.close()\n",
    "# Split into words\n",
    "words = []\n",
    "for l in lyrics:\n",
    "    words.extend(l.lower().strip().split()) # Convert all to lowercase to be case-insensitive\n",
    "n_words = len(words)\n",
    "n_diff_words = len(set(words))\n",
    "print(\"Imagine contains %i words, %i of them are different.\" % (n_words, n_diff_words))\n",
    "\n",
    "#Calculate the frequency of each word\n",
    "word_dict = {}\n",
    "for w in set(words):\n",
    "    word_dict[w] = words.count(w)\n",
    "\n",
    "# Find most frequent word\n",
    "most_frequent = 0\n",
    "for r in word_dict:\n",
    "    if (word_dict[r] > most_frequent) and (len(r) > 3):\n",
    "        most_frequent = word_dict[r]\n",
    "        most_frequent_word = r\n",
    "print(str(\"%s is the most frequent word being used %i times.\" % (most_frequent_word, most_frequent)))"
   ]
  }
 ],
 "metadata": {
  "kernelspec": {
   "display_name": "Python 3 (ipykernel)",
   "language": "python",
   "name": "python3"
  },
  "language_info": {
   "codemirror_mode": {
    "name": "ipython",
    "version": 3
   },
   "file_extension": ".py",
   "mimetype": "text/x-python",
   "name": "python",
   "nbconvert_exporter": "python",
   "pygments_lexer": "ipython3",
   "version": "3.7.10"
  }
 },
 "nbformat": 4,
 "nbformat_minor": 4
}
